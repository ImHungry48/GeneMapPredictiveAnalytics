{
  "cells": [
    {
      "cell_type": "code",
      "execution_count": null,
      "metadata": {
        "id": "QuX_PX0WYo0z"
      },
      "outputs": [],
      "source": [
        "# Parses the OMIM genemap2.txt database to seperate each line into a 2D array\n",
        "def parse_omim(omim):\n",
        "    reads = []\n",
        "    while True:\n",
        "        line = omim.readline().strip()\n",
        "        if (len(line) == 0):\n",
        "            break\n",
        "        segmented_line = line.split('\\t')\n",
        "        while(\"\" in segmented_line):\n",
        "            segmented_line.remove(\"\")\n",
        "        reads.append(segmented_line)\n",
        "    return reads\n",
        "\n",
        "# Goes through the array, removing all of the reads that have a gene sequence that's longer than max_len\n",
        "def filter_results(parsed_omim, max_len):\n",
        "    reads = []\n",
        "    for entry in parsed_omim:\n",
        "        start = entry[1]\n",
        "        end = entry[2]\n",
        "        if (int(end) - int(start) < max_len):\n",
        "            reads.append(entry)\n",
        "    return reads\n",
        "\n",
        "# Prints out the names of the genes from a filtered_omim array, these kind of describe what the gene is for\n",
        "def print_gene_names(filtered_omim):\n",
        "  for element in filtered_omim:\n",
        "    print(element[7])"
      ]
    },
    {
      "cell_type": "markdown",
      "metadata": {},
      "source": [
        "### Processing Code:"
      ]
    },
    {
      "cell_type": "code",
      "execution_count": null,
      "metadata": {
        "id": "uGuFL55n0V2D"
      },
      "outputs": [],
      "source": [
        "# Pseudocode:\n",
        "# Start off with an import of the genomics file\n",
        "# Parse the genomics file into an array\n",
        "# Filter the array to only include genes that are less than a certain length\n",
        "\n"
      ]
    }
  ],
  "metadata": {
    "colab": {
      "provenance": []
    },
    "kernelspec": {
      "display_name": "Python 3",
      "name": "python3"
    },
    "language_info": {
      "name": "python"
    }
  },
  "nbformat": 4,
  "nbformat_minor": 0
}

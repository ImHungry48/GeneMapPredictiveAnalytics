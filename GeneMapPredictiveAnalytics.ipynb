{
  "nbformat": 4,
  "nbformat_minor": 0,
  "metadata": {
    "colab": {
      "provenance": []
    },
    "kernelspec": {
      "name": "python3",
      "display_name": "Python 3"
    },
    "language_info": {
      "name": "python"
    }
  },
  "cells": [
    {
      "cell_type": "code",
      "source": [
        "# Parses the OMIM genemap2.txt database to seperate each line into a 2D array\n",
        "def parse_omim(omim):\n",
        "    reads = []\n",
        "    while True:\n",
        "        line = omim.readline().strip()\n",
        "        if (len(line) == 0):\n",
        "            break\n",
        "        segmented_line = line.split('\\t')\n",
        "        while(\"\" in segmented_line):\n",
        "            segmented_line.remove(\"\")\n",
        "        reads.append(segmented_line)\n",
        "    return reads\n",
        "\n",
        "# Goes through the array, removing all of the reads that have a gene sequence that's longer than max_len\n",
        "def filter_results(parsed_omim, max_len):\n",
        "    reads = []\n",
        "    for entry in parsed_omim:\n",
        "        start = entry[1]\n",
        "        end = entry[2]\n",
        "        if (int(end) - int(start) < max_len):\n",
        "            reads.append(entry)\n",
        "    return reads\n",
        "\n",
        "# Prints out the names of the genes from a filtered_omim array, these kind of describe what the gene is for\n",
        "def print_gene_names(filtered_omim):\n",
        "  for element in filtered_omim:\n",
        "    print(element[7])"
      ],
      "metadata": {
        "id": "QuX_PX0WYo0z"
      },
      "execution_count": null,
      "outputs": []
    },
    {
      "cell_type": "code",
      "source": [
        "# Pseudocode:\n",
        "\n",
        "\n"
      ],
      "metadata": {
        "id": "uGuFL55n0V2D"
      },
      "execution_count": null,
      "outputs": []
    }
  ]
}